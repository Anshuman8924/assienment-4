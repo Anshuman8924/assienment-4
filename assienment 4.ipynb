{
 "cells": [
  {
   "cell_type": "code",
   "execution_count": 16,
   "id": "0e26cceb-5781-4ea3-877b-bb07fb8a0a57",
   "metadata": {},
   "outputs": [],
   "source": [
    "#Q1. Which keyword is used to create a function? Create a function to return a list of\n",
    "#odd numbers in the  range of 1 to 25. \n"
   ]
  },
  {
   "cell_type": "code",
   "execution_count": null,
   "id": "6bc3cafd-e1d6-4362-9dd7-e05bf07f07f1",
   "metadata": {},
   "outputs": [],
   "source": []
  },
  {
   "cell_type": "code",
   "execution_count": null,
   "id": "295b5c69-411e-4021-8f51-758279bc61a5",
   "metadata": {},
   "outputs": [],
   "source": [
    "def test(s,d):\n",
    "    a=range(s,d)\n",
    "    l=[]\n",
    "\n",
    "    for i in a:\n",
    "        if i%2!=0:\n",
    "            l.append(i)\n",
    "    return l            \n",
    "    "
   ]
  },
  {
   "cell_type": "code",
   "execution_count": null,
   "id": "25d0b99d-ce15-47e8-a603-04960d02067c",
   "metadata": {},
   "outputs": [
    {
     "data": {
      "text/plain": [
       "[1, 3, 5, 7, 9, 11, 13, 15, 17, 19, 21, 23, 25]"
      ]
     },
     "execution_count": 18,
     "metadata": {},
     "output_type": "execute_result"
    }
   ],
   "source": [
    "test(1,26)"
   ]
  },
  {
   "cell_type": "code",
   "execution_count": 1,
   "id": "f3b33d49-eb14-4cc7-9e06-6c3a886c108e",
   "metadata": {},
   "outputs": [],
   "source": [
    "# Q2. Why *args and **kwargs is used in some functions? Create a function each for *args\n",
    "# and **kwargs  to demonstrate their use. "
   ]
  },
  {
   "cell_type": "code",
   "execution_count": 28,
   "id": "02530940-639b-4d5e-87d9-01c320d69b09",
   "metadata": {},
   "outputs": [],
   "source": [
    "# *args uses\n",
    "def add(*args):\n",
    "    num=1\n",
    "    for i in args:\n",
    "        num*= i\n",
    "    return num   \n",
    "        \n",
    "        \n"
   ]
  },
  {
   "cell_type": "code",
   "execution_count": 29,
   "id": "dae4a076-51a9-4b83-a21d-146b839bb055",
   "metadata": {},
   "outputs": [
    {
     "data": {
      "text/plain": [
       "6"
      ]
     },
     "execution_count": 29,
     "metadata": {},
     "output_type": "execute_result"
    }
   ],
   "source": [
    "(add(2,3))\n"
   ]
  },
  {
   "cell_type": "code",
   "execution_count": 54,
   "id": "f688972d-e4bb-4941-8d87-c3e056202815",
   "metadata": {},
   "outputs": [],
   "source": [
    "#**kwags use\n",
    "def add(**kwags):\n",
    "    num=0\n",
    "    for i in kwags.values():\n",
    "        num +=i\n",
    "    return num\n",
    "        \n",
    "    \n"
   ]
  },
  {
   "cell_type": "code",
   "execution_count": 55,
   "id": "3bda4f3a-8b63-4e10-bb29-a53e758d7773",
   "metadata": {},
   "outputs": [
    {
     "data": {
      "text/plain": [
       "18"
      ]
     },
     "execution_count": 55,
     "metadata": {},
     "output_type": "execute_result"
    }
   ],
   "source": [
    "add(b=6,a=5,d=7)"
   ]
  },
  {
   "cell_type": "code",
   "execution_count": 2,
   "id": "17a1f6f9-f785-477f-9176-f9dbda4fdefe",
   "metadata": {},
   "outputs": [],
   "source": [
    "#Q3.  What is an iterator in python? Name the method used to initialise the iterator \n",
    "# object and the method  used for iteration. Use these methods to print the first five\n",
    "# elements of the given list [2, 4, 6, 8, 10, 12, 14,  16, 18, 20]. "
   ]
  },
  {
   "cell_type": "code",
   "execution_count": null,
   "id": "65e86481-ec8d-4b36-b895-c397b4e433ed",
   "metadata": {},
   "outputs": [],
   "source": [
    "#An iterator is an object that contains a countable number of values. An iterator is an \n",
    "#object that can be iterated upon, meaning that you can traverse through all the values.\n",
    "#Technically, in Python, an iterator is an object which implements the iterator protocol,\n",
    "#which consist of the methods __iter__() and __next__() .\n"
   ]
  },
  {
   "cell_type": "code",
   "execution_count": 128,
   "id": "2aba8329-db2b-4f7c-8a17-b4cdd6726738",
   "metadata": {},
   "outputs": [
    {
     "name": "stdout",
     "output_type": "stream",
     "text": [
      "2 4 6 8 10 12 "
     ]
    }
   ],
   "source": [
    "l=[2,4,6,8,10,12,14,16,18,20]\n",
    "itor=iter(l)\n",
    "for i in range(6):\n",
    "    print(next(itor),end=' ')\n",
    "      \n",
    "    "
   ]
  },
  {
   "cell_type": "code",
   "execution_count": 1,
   "id": "54d1449b-29bd-41cc-b7cc-5fd02c25a813",
   "metadata": {},
   "outputs": [],
   "source": [
    "#Q4. What is a generator function in python? Why yield keyword is used? Give an example \n",
    " #of a generator function."
   ]
  },
  {
   "cell_type": "code",
   "execution_count": 2,
   "id": "7ac66888-dda9-45d9-ac0a-c647066ab972",
   "metadata": {},
   "outputs": [],
   "source": [
    "#Ans In Python, a generator is a function that returns an iterator that produces a sequence \n",
    "#of values when iterated over. yield keyword is used to create a generator function. A \n",
    "#type of function that is memory efficient and can be used like an iterator object."
   ]
  },
  {
   "cell_type": "code",
   "execution_count": 3,
   "id": "94c8e5fb-786d-468b-8c56-4d13eba08c9b",
   "metadata": {},
   "outputs": [],
   "source": [
    "def test(n):\n",
    "    for i in range(n):\n",
    "        yield(i)"
   ]
  },
  {
   "cell_type": "code",
   "execution_count": 4,
   "id": "ae778737-5854-44b4-bac6-d58ff31953c7",
   "metadata": {},
   "outputs": [
    {
     "data": {
      "text/plain": [
       "<generator object test at 0x7f8b9d2498c0>"
      ]
     },
     "execution_count": 4,
     "metadata": {},
     "output_type": "execute_result"
    }
   ],
   "source": [
    "test(5)"
   ]
  },
  {
   "cell_type": "code",
   "execution_count": 5,
   "id": "e00380e4-fc37-42c0-bce1-6db441c65500",
   "metadata": {},
   "outputs": [
    {
     "name": "stdout",
     "output_type": "stream",
     "text": [
      "0\n",
      "1\n",
      "2\n",
      "3\n",
      "4\n"
     ]
    }
   ],
   "source": [
    "for m in test(5):\n",
    "    print(m)"
   ]
  },
  {
   "cell_type": "code",
   "execution_count": 6,
   "id": "4ee5a628-f946-4c44-9048-f5f066f94dee",
   "metadata": {},
   "outputs": [],
   "source": [
    "#Q5. Create a generator function for prime numbers less than 1000. Use the next()\n",
    "#method to print the first 20 prime numbers.\n"
   ]
  },
  {
   "cell_type": "code",
   "execution_count": 10,
   "id": "3e1fa5fe-96ef-49b2-8893-97ac7a5c9262",
   "metadata": {},
   "outputs": [],
   "source": [
    "def test1(n):   \n",
    "    for i in range(2,n):\n",
    "        isprime=True\n",
    "        for k in range(2,i-1):\n",
    "            if i%k==0:\n",
    "                isprime=False\n",
    "        if isprime:    \n",
    "                \n",
    "                yield(i)\n",
    "            \n",
    "    "
   ]
  },
  {
   "cell_type": "code",
   "execution_count": 19,
   "id": "9f5dee1f-60f2-4550-8f7b-e86b1cc7b94c",
   "metadata": {},
   "outputs": [],
   "source": [
    "g=test1(1000)"
   ]
  },
  {
   "cell_type": "code",
   "execution_count": 20,
   "id": "e5d68ce3-3c1b-40fd-9db8-9731a24a8238",
   "metadata": {},
   "outputs": [
    {
     "name": "stdout",
     "output_type": "stream",
     "text": [
      "2\n",
      "3\n",
      "5\n",
      "7\n",
      "11\n",
      "13\n",
      "17\n",
      "19\n",
      "23\n",
      "29\n",
      "31\n",
      "37\n",
      "41\n",
      "43\n",
      "47\n",
      "53\n",
      "59\n",
      "61\n",
      "67\n",
      "71\n"
     ]
    }
   ],
   "source": [
    "for i in range(20):\n",
    "    print(next(g))\n",
    "    "
   ]
  },
  {
   "cell_type": "code",
   "execution_count": 21,
   "id": "afcddeb3-a258-4738-8a20-a38d12e23b65",
   "metadata": {},
   "outputs": [],
   "source": [
    "#Q6. Write a python program to print the first 10 Fibonacci numbers using a while loop."
   ]
  },
  {
   "cell_type": "code",
   "execution_count": 124,
   "id": "82e33b33-4d3e-453c-bf5f-6465a6117aae",
   "metadata": {},
   "outputs": [
    {
     "name": "stdin",
     "output_type": "stream",
     "text": [
      "your range 10\n"
     ]
    },
    {
     "name": "stdout",
     "output_type": "stream",
     "text": [
      "0\n",
      "1\n",
      "1\n",
      "2\n",
      "3\n",
      "5\n",
      "8\n",
      "13\n",
      "21\n",
      "34\n"
     ]
    }
   ],
   "source": [
    "# 10 fibbnocci\n",
    "n=int(input('your range'))\n",
    "a,b=0,1\n",
    "for i in range(n):\n",
    "    print(a)\n",
    "    a,b=b,a+b\n",
    "\n",
    "     \n",
    "    "
   ]
  },
  {
   "cell_type": "code",
   "execution_count": 58,
   "id": "375a466c-526a-48d2-859e-06eba9193eae",
   "metadata": {},
   "outputs": [],
   "source": [
    "#Q7. Write a List Comprehension to iterate through the given string: ‘pwskills’.\n",
    "# Expected output: ['p', 'w', 's', 'k', 'i', 'l', 'l', 's']"
   ]
  },
  {
   "cell_type": "code",
   "execution_count": 86,
   "id": "3b34cc68-9f96-4693-a2e0-cb646012f196",
   "metadata": {},
   "outputs": [
    {
     "data": {
      "text/plain": [
       "['p', 'w', 's', 'k', 'i', 'l', 'l', 's']"
      ]
     },
     "execution_count": 86,
     "metadata": {},
     "output_type": "execute_result"
    }
   ],
   "source": [
    "l='pwskills'\n",
    "\n",
    "[i for i in l]"
   ]
  },
  {
   "cell_type": "code",
   "execution_count": null,
   "id": "3044dae1-1531-4e2a-a7bd-37e7aa68e84e",
   "metadata": {},
   "outputs": [],
   "source": [
    "#Q8. Write a python program to check whether a given number is Palindrome or not using\n",
    "#a while loop."
   ]
  },
  {
   "cell_type": "code",
   "execution_count": 113,
   "id": "40de4e4f-5dfd-4069-88f2-4c4696d32a72",
   "metadata": {},
   "outputs": [
    {
     "name": "stdin",
     "output_type": "stream",
     "text": [
      "enter your number 5566666\n"
     ]
    },
    {
     "name": "stdout",
     "output_type": "stream",
     "text": [
      "not palindrom\n"
     ]
    }
   ],
   "source": [
    "n=(input('enter your number'))\n",
    "\n",
    "if n==n[::-1]:\n",
    "    print('palindrom number')\n",
    "else:\n",
    "    print('not palindrom')\n",
    "    "
   ]
  },
  {
   "cell_type": "code",
   "execution_count": 105,
   "id": "93d77b91-6109-47f8-be13-690368c7f1c9",
   "metadata": {},
   "outputs": [],
   "source": [
    "#Q9. Write a code to print odd numbers from 1 to 100 using list comprehension."
   ]
  },
  {
   "cell_type": "code",
   "execution_count": 123,
   "id": "9cd60f23-5aa1-4be8-8a9f-bcc7ee3a3cce",
   "metadata": {},
   "outputs": [
    {
     "name": "stdout",
     "output_type": "stream",
     "text": [
      "0 2 4 6 8 10 12 14 16 18 20 22 24 26 28 30 32 34 36 38 40 42 44 46 48 50 52 54 56 58 60 62 64 66 68 70 72 74 76 78 80 82 84 86 88 90 92 94 96 98 "
     ]
    }
   ],
   "source": [
    "for i in range(100):\n",
    "    if i%2==0:\n",
    "        print(i,end=' ')"
   ]
  },
  {
   "cell_type": "code",
   "execution_count": null,
   "id": "7d72cfb4-6b88-40c7-ab79-bce4f1126855",
   "metadata": {},
   "outputs": [],
   "source": []
  }
 ],
 "metadata": {
  "kernelspec": {
   "display_name": "Python 3 (ipykernel)",
   "language": "python",
   "name": "python3"
  },
  "language_info": {
   "codemirror_mode": {
    "name": "ipython",
    "version": 3
   },
   "file_extension": ".py",
   "mimetype": "text/x-python",
   "name": "python",
   "nbconvert_exporter": "python",
   "pygments_lexer": "ipython3",
   "version": "3.10.8"
  }
 },
 "nbformat": 4,
 "nbformat_minor": 5
}
